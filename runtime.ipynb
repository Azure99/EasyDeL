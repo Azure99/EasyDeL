{
 "cells": [
  {
   "cell_type": "code",
   "execution_count": 1,
   "metadata": {},
   "outputs": [
    {
     "name": "stderr",
     "output_type": "stream",
     "text": [
      "An NVIDIA GPU may be present on this machine, but a CUDA-enabled jaxlib is not installed. Falling back to cpu.\n",
      "2024-07-15 14:38:31,858 WARNING  [easydel.inference.serve_engine.serve] `aiohttp` not found ApiEngine won't work as excepted.\n"
     ]
    }
   ],
   "source": [
    "import os\n",
    "import sys\n",
    "\n",
    "try:\n",
    "    import easydel as ed\n",
    "except ModuleNotFoundError:\n",
    "    dirname = \"/home/erfan/PycharmProjects/EasyDeL\"\n",
    "    sys.path.append(dirname)  # noqa: E402\n",
    "    sys.path.append(\n",
    "        os.path.join(\n",
    "            dirname,\n",
    "            \"src\",\n",
    "        )\n",
    "    )\n",
    "    import easydel as ed\n",
    "from jax import numpy as jnp\n",
    "from transformers import AutoTokenizer, GenerationConfig"
   ]
  },
  {
   "cell_type": "code",
   "execution_count": 2,
   "metadata": {},
   "outputs": [
    {
     "name": "stderr",
     "output_type": "stream",
     "text": [
      "/home/erfan/venv/lib/python3.10/site-packages/jax/_src/numpy/lax_numpy.py:3656: UserWarning: Explicitly requested dtype float64 requested in asarray is not available, and will be truncated to dtype float32. To enable more dtypes, set the jax_enable_x64 configuration option or the JAX_ENABLE_X64 shell environment variable. See https://github.com/google/jax#current-gotchas for more.\n",
      "  start = asarray(start, dtype=computation_dtype)\n",
      "/home/erfan/venv/lib/python3.10/site-packages/jax/_src/numpy/lax_numpy.py:3657: UserWarning: Explicitly requested dtype float64 requested in asarray is not available, and will be truncated to dtype float32. To enable more dtypes, set the jax_enable_x64 configuration option or the JAX_ENABLE_X64 shell environment variable. See https://github.com/google/jax#current-gotchas for more.\n",
      "  stop = asarray(stop, dtype=computation_dtype)\n",
      "/home/erfan/venv/lib/python3.10/site-packages/jax/_src/numpy/array_methods.py:68: UserWarning: Explicitly requested dtype float64 requested in astype is not available, and will be truncated to dtype float32. To enable more dtypes, set the jax_enable_x64 configuration option or the JAX_ENABLE_X64 shell environment variable. See https://github.com/google/jax#current-gotchas for more.\n",
      "  return lax_numpy.astype(arr, dtype, copy=copy, device=device)\n"
     ]
    },
    {
     "data": {
      "application/vnd.jupyter.widget-view+json": {
       "model_id": "85b7a3223a014b5f8e98060411c05ff6",
       "version_major": 2,
       "version_minor": 0
      },
      "text/plain": [
       "  0%|          | 0/226 [00:00<?, ?it/s]"
      ]
     },
     "metadata": {},
     "output_type": "display_data"
    },
    {
     "name": "stderr",
     "output_type": "stream",
     "text": [
      "2024-07-15 14:39:16,258 WARNING  [easydel.etils.easystate] `tx` is set to None in case that you want to train model first add a tx. (use `state.replace_tx`)\n"
     ]
    }
   ],
   "source": [
    "\n",
    "state = ed.AutoStateForCausalLM.from_pretrained(\n",
    "    \"apple/OpenELM-1_1B-Instruct\",\n",
    "    dtype=jnp.float16,\n",
    "    param_dtype=jnp.float16,\n",
    "    trust_remote_code=True,\n",
    ")"
   ]
  },
  {
   "cell_type": "code",
   "execution_count": 12,
   "metadata": {},
   "outputs": [],
   "source": [
    "tokenizer = AutoTokenizer.from_pretrained(\"meta-llama/Llama-2-7b-hf\")\n",
    "tokenizer.pad_token_id = tokenizer.eos_token_id\n",
    "tokenizer.padding_side = \"left\""
   ]
  },
  {
   "cell_type": "code",
   "execution_count": 17,
   "metadata": {},
   "outputs": [],
   "source": [
    "tokens = tokenizer(\n",
    "    \"def fibo(\",\n",
    "    return_tensors=\"np\",\n",
    "    max_length=64,\n",
    "    padding=\"max_length\",\n",
    ")\n",
    "gen_config = GenerationConfig(\n",
    "    max_new_tokens=32,\n",
    "    pad_token_id=tokenizer.pad_token_id,\n",
    ")"
   ]
  },
  {
   "cell_type": "code",
   "execution_count": 18,
   "metadata": {},
   "outputs": [],
   "source": [
    "res = state.generate(generation_config=gen_config,**tokens)"
   ]
  },
  {
   "cell_type": "code",
   "execution_count": 19,
   "metadata": {},
   "outputs": [
    {
     "name": "stdout",
     "output_type": "stream",
     "text": [
      "def fibo(n):\n",
      "    global fibo_list\n",
      "    global fibo_sum\n",
      "\n",
      "    if n <= 2:\n",
      "        return fibo_list\n"
     ]
    }
   ],
   "source": [
    "print(tokenizer.decode(res.sequences[0],skip_special_tokens=True))"
   ]
  },
  {
   "cell_type": "code",
   "execution_count": 20,
   "metadata": {},
   "outputs": [
    {
     "ename": "KeyError",
     "evalue": "'OpenELMConfig'",
     "output_type": "error",
     "traceback": [
      "\u001b[0;31m---------------------------------------------------------------------------\u001b[0m",
      "\u001b[0;31mKeyError\u001b[0m                                  Traceback (most recent call last)",
      "Cell \u001b[0;32mIn[20], line 1\u001b[0m\n\u001b[0;32m----> 1\u001b[0m model \u001b[38;5;241m=\u001b[39m \u001b[43mstate\u001b[49m\u001b[38;5;241;43m.\u001b[39;49m\u001b[43mto_pytorch\u001b[49m\u001b[43m(\u001b[49m\u001b[43m)\u001b[49m\n",
      "File \u001b[0;32m~/PycharmProjects/EasyDeL/src/easydel/etils/easystate.py:946\u001b[0m, in \u001b[0;36mEasyDeLState.to_pytorch\u001b[0;34m(self, base_hf_auto_class, easystate_to_huggingface_model_kwargs)\u001b[0m\n\u001b[1;32m    944\u001b[0m \u001b[38;5;28;01mif\u001b[39;00m base_hf_auto_class \u001b[38;5;129;01mis\u001b[39;00m \u001b[38;5;28;01mNone\u001b[39;00m:\n\u001b[1;32m    945\u001b[0m     \u001b[38;5;28;01mfrom\u001b[39;00m \u001b[38;5;21;01mtransformers\u001b[39;00m \u001b[38;5;28;01mimport\u001b[39;00m AutoModelForCausalLM \u001b[38;5;28;01mas\u001b[39;00m base_hf_auto_class\n\u001b[0;32m--> 946\u001b[0m \u001b[38;5;28;01mreturn\u001b[39;00m \u001b[38;5;28;43mself\u001b[39;49m\u001b[38;5;241;43m.\u001b[39;49m\u001b[43mmodule\u001b[49m\u001b[38;5;241;43m.\u001b[39;49m\u001b[43mto_pytorch\u001b[49m\u001b[43m(\u001b[49m\n\u001b[1;32m    947\u001b[0m \u001b[43m    \u001b[49m\u001b[43mparams\u001b[49m\u001b[38;5;241;43m=\u001b[39;49m\u001b[38;5;28;43mself\u001b[39;49m\u001b[38;5;241;43m.\u001b[39;49m\u001b[43mparams\u001b[49m\u001b[43m,\u001b[49m\n\u001b[1;32m    948\u001b[0m \u001b[43m    \u001b[49m\u001b[43mbase_hf_auto_class\u001b[49m\u001b[38;5;241;43m=\u001b[39;49m\u001b[43mbase_hf_auto_class\u001b[49m\u001b[43m,\u001b[49m\n\u001b[1;32m    949\u001b[0m \u001b[43m    \u001b[49m\u001b[43measystate_to_huggingface_model_kwargs\u001b[49m\u001b[38;5;241;43m=\u001b[39;49m\u001b[43measystate_to_huggingface_model_kwargs\u001b[49m\u001b[43m,\u001b[49m\n\u001b[1;32m    950\u001b[0m \u001b[43m\u001b[49m\u001b[43m)\u001b[49m\n",
      "File \u001b[0;32m~/PycharmProjects/EasyDeL/src/easydel/modules/modeling_utils.py:735\u001b[0m, in \u001b[0;36mEDPretrainedModel.to_pytorch\u001b[0;34m(self, params, base_hf_auto_class, easystate_to_huggingface_model_kwargs)\u001b[0m\n\u001b[1;32m    733\u001b[0m     model_config \u001b[38;5;241m=\u001b[39m state\u001b[38;5;241m.\u001b[39mmodule\u001b[38;5;241m.\u001b[39mconfig_class\n\u001b[1;32m    734\u001b[0m \u001b[38;5;66;03m# model_type = model_config.model_type\u001b[39;00m\n\u001b[0;32m--> 735\u001b[0m model_class \u001b[38;5;241m=\u001b[39m \u001b[43mbase_hf_auto_class\u001b[49m\u001b[38;5;241;43m.\u001b[39;49m\u001b[43m_model_mapping\u001b[49m\u001b[43m[\u001b[49m\u001b[38;5;28;43mtype\u001b[39;49m\u001b[43m(\u001b[49m\u001b[43mmodel_config\u001b[49m\u001b[43m)\u001b[49m\u001b[43m]\u001b[49m  \u001b[38;5;66;03m# noqa\u001b[39;00m\n\u001b[1;32m    736\u001b[0m hf_model \u001b[38;5;241m=\u001b[39m easystate_to_huggingface_model(\n\u001b[1;32m    737\u001b[0m     state\u001b[38;5;241m=\u001b[39mstate,\n\u001b[1;32m    738\u001b[0m     base_huggingface_module\u001b[38;5;241m=\u001b[39mmodel_class,\n\u001b[1;32m    739\u001b[0m     config\u001b[38;5;241m=\u001b[39mmodel_config,\n\u001b[1;32m    740\u001b[0m     \u001b[38;5;241m*\u001b[39m\u001b[38;5;241m*\u001b[39measystate_to_huggingface_model_kwargs,\n\u001b[1;32m    741\u001b[0m )\n\u001b[1;32m    742\u001b[0m \u001b[38;5;28;01mreturn\u001b[39;00m hf_model\n",
      "File \u001b[0;32m~/venv/lib/python3.10/site-packages/transformers/models/auto/auto_factory.py:732\u001b[0m, in \u001b[0;36m_LazyAutoMapping.__getitem__\u001b[0;34m(self, key)\u001b[0m\n\u001b[1;32m    730\u001b[0m \u001b[38;5;28;01mif\u001b[39;00m key \u001b[38;5;129;01min\u001b[39;00m \u001b[38;5;28mself\u001b[39m\u001b[38;5;241m.\u001b[39m_extra_content:\n\u001b[1;32m    731\u001b[0m     \u001b[38;5;28;01mreturn\u001b[39;00m \u001b[38;5;28mself\u001b[39m\u001b[38;5;241m.\u001b[39m_extra_content[key]\n\u001b[0;32m--> 732\u001b[0m model_type \u001b[38;5;241m=\u001b[39m \u001b[38;5;28;43mself\u001b[39;49m\u001b[38;5;241;43m.\u001b[39;49m\u001b[43m_reverse_config_mapping\u001b[49m\u001b[43m[\u001b[49m\u001b[43mkey\u001b[49m\u001b[38;5;241;43m.\u001b[39;49m\u001b[38;5;18;43m__name__\u001b[39;49m\u001b[43m]\u001b[49m\n\u001b[1;32m    733\u001b[0m \u001b[38;5;28;01mif\u001b[39;00m model_type \u001b[38;5;129;01min\u001b[39;00m \u001b[38;5;28mself\u001b[39m\u001b[38;5;241m.\u001b[39m_model_mapping:\n\u001b[1;32m    734\u001b[0m     model_name \u001b[38;5;241m=\u001b[39m \u001b[38;5;28mself\u001b[39m\u001b[38;5;241m.\u001b[39m_model_mapping[model_type]\n",
      "\u001b[0;31mKeyError\u001b[0m: 'OpenELMConfig'"
     ]
    }
   ],
   "source": [
    "model = state.to_pytorch()"
   ]
  },
  {
   "cell_type": "code",
   "execution_count": null,
   "metadata": {},
   "outputs": [],
   "source": []
  }
 ],
 "metadata": {
  "kernelspec": {
   "display_name": "Python 3",
   "language": "python",
   "name": "python3"
  },
  "language_info": {
   "codemirror_mode": {
    "name": "ipython",
    "version": 3
   },
   "file_extension": ".py",
   "mimetype": "text/x-python",
   "name": "python",
   "nbconvert_exporter": "python",
   "pygments_lexer": "ipython3",
   "version": "3.10.12"
  }
 },
 "nbformat": 4,
 "nbformat_minor": 2
}
